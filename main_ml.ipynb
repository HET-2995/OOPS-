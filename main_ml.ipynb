{
  "nbformat": 4,
  "nbformat_minor": 0,
  "metadata": {
    "colab": {
      "provenance": [],
      "authorship_tag": "ABX9TyP/WxTo6i6ep18OfSEK8nhT",
      "include_colab_link": true
    },
    "kernelspec": {
      "name": "python3",
      "display_name": "Python 3"
    },
    "language_info": {
      "name": "python"
    }
  },
  "cells": [
    {
      "cell_type": "markdown",
      "metadata": {
        "id": "view-in-github",
        "colab_type": "text"
      },
      "source": [
        "<a href=\"https://colab.research.google.com/github/HET-2995/OOPS-/blob/main/main_ml.ipynb\" target=\"_parent\"><img src=\"https://colab.research.google.com/assets/colab-badge.svg\" alt=\"Open In Colab\"/></a>"
      ]
    },
    {
      "cell_type": "code",
      "execution_count": 1,
      "metadata": {
        "colab": {
          "base_uri": "https://localhost:8080/"
        },
        "id": "HlPtni7ylxjf",
        "outputId": "217859e1-fe78-47c5-f757-6f974123374e"
      },
      "outputs": [
        {
          "output_type": "stream",
          "name": "stderr",
          "text": [
            "/usr/local/lib/python3.11/dist-packages/sklearn/svm/_base.py:305: ConvergenceWarning: Solver terminated early (max_iter=100).  Consider pre-processing your data with StandardScaler or MinMaxScaler.\n",
            "  warnings.warn(\n"
          ]
        },
        {
          "output_type": "stream",
          "name": "stdout",
          "text": [
            "Ensemble model accuracy: 0.9605\n"
          ]
        }
      ],
      "source": [
        "import numpy as np\n",
        "import pandas as pd\n",
        "from sklearn.model_selection import train_test_split\n",
        "from sklearn.ensemble import RandomForestClassifier, GradientBoostingClassifier, VotingClassifier\n",
        "from sklearn.svm import SVC\n",
        "from sklearn.linear_model import LogisticRegression\n",
        "from sklearn.metrics import accuracy_score\n",
        "from sklearn.impute import SimpleImputer\n",
        "from sklearn.decomposition import PCA\n",
        "from sklearn.preprocessing import StandardScaler\n",
        "\n",
        "# Load the dataset\n",
        "df = pd.read_csv(\"/content/Final_Augmented_dataset_Diseases_and_Symptoms.csv\")\n",
        "\n",
        "# Use only 10,000 rows for faster processing\n",
        "df_sampled = df.sample(n=10000, random_state=42)\n",
        "\n",
        "# Features (Symptoms)\n",
        "y = df_sampled['diseases']\n",
        "X = df_sampled.drop(columns='diseases', axis=1)\n",
        "\n",
        "# 80% train, 20% test\n",
        "X_train, X_test, y_train, y_test = train_test_split(X, y, test_size=0.2, random_state=42)\n",
        "\n",
        "# Convert to float32 for training efficiency\n",
        "X_train = X_train.astype('float32')\n",
        "X_test = X_test.astype('float32')\n",
        "\n",
        "# Apply imputation to handle NaN values\n",
        "imputer = SimpleImputer(strategy='mean')  # You can also use strategy='most_frequent' for categorical data\n",
        "X_train = imputer.fit_transform(X_train)\n",
        "X_test = imputer.transform(X_test)\n",
        "\n",
        "# Standardize the data\n",
        "scaler = StandardScaler()\n",
        "X_train = scaler.fit_transform(X_train)\n",
        "X_test = scaler.transform(X_test)\n",
        "\n",
        "# Reduce dimensions using PCA\n",
        "pca = PCA(n_components=0.95)  # Keep 95% of variance\n",
        "X_train = pca.fit_transform(X_train)\n",
        "X_test = pca.transform(X_test)\n",
        "\n",
        "# Initialize individual models for ensemble with reduced estimators\n",
        "rf_model = RandomForestClassifier(n_estimators=50, random_state=42)\n",
        "gb_model = GradientBoostingClassifier(n_estimators=50, random_state=42)\n",
        "svc_model = SVC(kernel='linear', probability=True, max_iter=100)\n",
        "lr_model = LogisticRegression(max_iter=100)\n",
        "\n",
        "# After training the individual models, now fit the VotingClassifier ensemble\n",
        "ensemble_model = VotingClassifier(estimators=[\n",
        "    ('rf', rf_model),\n",
        "    ('gb', gb_model),\n",
        "    ('svc', svc_model),\n",
        "    ('lr', lr_model)\n",
        "], voting='soft')\n",
        "\n",
        "# Fit the ensemble model\n",
        "ensemble_model.fit(X_train, y_train)\n",
        "\n",
        "# Use the ensemble to predict on the test set\n",
        "y_pred = ensemble_model.predict(X_test)\n",
        "\n",
        "# Evaluate the model\n",
        "accuracy = accuracy_score(y_test, y_pred)\n",
        "print(f'Ensemble model accuracy: {accuracy:.4f}')"
      ]
    },
    {
      "cell_type": "code",
      "source": [
        "import joblib\n",
        "\n",
        "# Save the trained model\n",
        "joblib.dump(ensemble_model, \"ensemble_model.pkl\")\n",
        "\n",
        "print(\"Model saved successfully!\")\n"
      ],
      "metadata": {
        "colab": {
          "base_uri": "https://localhost:8080/"
        },
        "id": "CQKAbKS1GId3",
        "outputId": "bb687504-d17b-46b0-9323-7a506173467a"
      },
      "execution_count": 2,
      "outputs": [
        {
          "output_type": "stream",
          "name": "stdout",
          "text": [
            "Model saved successfully!\n"
          ]
        }
      ]
    },
    {
      "cell_type": "code",
      "source": [
        "# Load the saved model\n",
        "loaded_model = joblib.load(\"ensemble_model.pkl\")\n",
        "\n",
        "# Use the loaded model to make predictions\n",
        "y_pred_loaded = loaded_model.predict(X_test)\n",
        "\n",
        "# Verify the accuracy remains the same\n",
        "accuracy_loaded = accuracy_score(y_test, y_pred_loaded)\n",
        "print(f'Loaded model accuracy: {accuracy_loaded:.4f}')\n"
      ],
      "metadata": {
        "colab": {
          "base_uri": "https://localhost:8080/"
        },
        "id": "jV8d4iheGLRn",
        "outputId": "aaf61750-608b-403c-e576-8672620dbe98"
      },
      "execution_count": 3,
      "outputs": [
        {
          "output_type": "stream",
          "name": "stdout",
          "text": [
            "Loaded model accuracy: 0.9605\n"
          ]
        }
      ]
    }
  ]
}